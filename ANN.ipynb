{
  "nbformat": 4,
  "nbformat_minor": 0,
  "metadata": {
    "colab": {
      "name": "ANN ",
      "provenance": [],
      "collapsed_sections": [],
      "authorship_tag": "ABX9TyMADbZlnWLELxqfWHKLdsGG",
      "include_colab_link": true
    },
    "kernelspec": {
      "name": "python3",
      "display_name": "Python 3"
    }
  },
  "cells": [
    {
      "cell_type": "markdown",
      "metadata": {
        "id": "view-in-github",
        "colab_type": "text"
      },
      "source": [
        "<a href=\"https://colab.research.google.com/github/jeevan-nh/Google-collab-udemy-DL-course/blob/master/ANN.ipynb\" target=\"_parent\"><img src=\"https://colab.research.google.com/assets/colab-badge.svg\" alt=\"Open In Colab\"/></a>"
      ]
    },
    {
      "cell_type": "code",
      "metadata": {
        "id": "MR4GUUnKC53k",
        "colab_type": "code",
        "outputId": "c43273ed-5a5c-41c2-b214-46a55240c28a",
        "colab": {
          "base_uri": "https://localhost:8080/",
          "height": 121
        }
      },
      "source": [
        "from google.colab import drive\n",
        "drive.mount('/content/drive')"
      ],
      "execution_count": 0,
      "outputs": [
        {
          "output_type": "stream",
          "text": [
            "Go to this URL in a browser: https://accounts.google.com/o/oauth2/auth?client_id=947318989803-6bn6qk8qdgf4n4g3pfee6491hc0brc4i.apps.googleusercontent.com&redirect_uri=urn%3aietf%3awg%3aoauth%3a2.0%3aoob&response_type=code&scope=email%20https%3a%2f%2fwww.googleapis.com%2fauth%2fdocs.test%20https%3a%2f%2fwww.googleapis.com%2fauth%2fdrive%20https%3a%2f%2fwww.googleapis.com%2fauth%2fdrive.photos.readonly%20https%3a%2f%2fwww.googleapis.com%2fauth%2fpeopleapi.readonly\n",
            "\n",
            "Enter your authorization code:\n",
            "··········\n",
            "Mounted at /content/drive\n"
          ],
          "name": "stdout"
        }
      ]
    },
    {
      "cell_type": "code",
      "metadata": {
        "id": "BWx1cJPxyni_",
        "colab_type": "code",
        "colab": {}
      },
      "source": [
        "# Importing the libraries\n",
        "import numpy as np\n",
        "import matplotlib.pyplot as plt\n",
        "import pandas as pd"
      ],
      "execution_count": 0,
      "outputs": []
    },
    {
      "cell_type": "code",
      "metadata": {
        "id": "7RqDFDXWysjv",
        "colab_type": "code",
        "colab": {}
      },
      "source": [
        "dataset = pd.read_csv('/content/drive/My Drive/Colab Notebooks/Churn_Modelling.csv')\n",
        "X = dataset.iloc[:, 3:13].values\n",
        "y = dataset.iloc[:, 13].values"
      ],
      "execution_count": 0,
      "outputs": []
    },
    {
      "cell_type": "code",
      "metadata": {
        "id": "WkHUZIJ106oO",
        "colab_type": "code",
        "outputId": "e80a157f-b424-4101-a19a-6b6260d3e57c",
        "colab": {
          "base_uri": "https://localhost:8080/",
          "height": 383
        }
      },
      "source": [
        "dataset.head(10)"
      ],
      "execution_count": 0,
      "outputs": [
        {
          "output_type": "execute_result",
          "data": {
            "text/html": [
              "<div>\n",
              "<style scoped>\n",
              "    .dataframe tbody tr th:only-of-type {\n",
              "        vertical-align: middle;\n",
              "    }\n",
              "\n",
              "    .dataframe tbody tr th {\n",
              "        vertical-align: top;\n",
              "    }\n",
              "\n",
              "    .dataframe thead th {\n",
              "        text-align: right;\n",
              "    }\n",
              "</style>\n",
              "<table border=\"1\" class=\"dataframe\">\n",
              "  <thead>\n",
              "    <tr style=\"text-align: right;\">\n",
              "      <th></th>\n",
              "      <th>RowNumber</th>\n",
              "      <th>CustomerId</th>\n",
              "      <th>Surname</th>\n",
              "      <th>CreditScore</th>\n",
              "      <th>Geography</th>\n",
              "      <th>Gender</th>\n",
              "      <th>Age</th>\n",
              "      <th>Tenure</th>\n",
              "      <th>Balance</th>\n",
              "      <th>NumOfProducts</th>\n",
              "      <th>HasCrCard</th>\n",
              "      <th>IsActiveMember</th>\n",
              "      <th>EstimatedSalary</th>\n",
              "      <th>Exited</th>\n",
              "    </tr>\n",
              "  </thead>\n",
              "  <tbody>\n",
              "    <tr>\n",
              "      <th>0</th>\n",
              "      <td>1</td>\n",
              "      <td>15634602</td>\n",
              "      <td>Hargrave</td>\n",
              "      <td>619</td>\n",
              "      <td>France</td>\n",
              "      <td>Female</td>\n",
              "      <td>42</td>\n",
              "      <td>2</td>\n",
              "      <td>0.00</td>\n",
              "      <td>1</td>\n",
              "      <td>1</td>\n",
              "      <td>1</td>\n",
              "      <td>101348.88</td>\n",
              "      <td>1</td>\n",
              "    </tr>\n",
              "    <tr>\n",
              "      <th>1</th>\n",
              "      <td>2</td>\n",
              "      <td>15647311</td>\n",
              "      <td>Hill</td>\n",
              "      <td>608</td>\n",
              "      <td>Spain</td>\n",
              "      <td>Female</td>\n",
              "      <td>41</td>\n",
              "      <td>1</td>\n",
              "      <td>83807.86</td>\n",
              "      <td>1</td>\n",
              "      <td>0</td>\n",
              "      <td>1</td>\n",
              "      <td>112542.58</td>\n",
              "      <td>0</td>\n",
              "    </tr>\n",
              "    <tr>\n",
              "      <th>2</th>\n",
              "      <td>3</td>\n",
              "      <td>15619304</td>\n",
              "      <td>Onio</td>\n",
              "      <td>502</td>\n",
              "      <td>France</td>\n",
              "      <td>Female</td>\n",
              "      <td>42</td>\n",
              "      <td>8</td>\n",
              "      <td>159660.80</td>\n",
              "      <td>3</td>\n",
              "      <td>1</td>\n",
              "      <td>0</td>\n",
              "      <td>113931.57</td>\n",
              "      <td>1</td>\n",
              "    </tr>\n",
              "    <tr>\n",
              "      <th>3</th>\n",
              "      <td>4</td>\n",
              "      <td>15701354</td>\n",
              "      <td>Boni</td>\n",
              "      <td>699</td>\n",
              "      <td>France</td>\n",
              "      <td>Female</td>\n",
              "      <td>39</td>\n",
              "      <td>1</td>\n",
              "      <td>0.00</td>\n",
              "      <td>2</td>\n",
              "      <td>0</td>\n",
              "      <td>0</td>\n",
              "      <td>93826.63</td>\n",
              "      <td>0</td>\n",
              "    </tr>\n",
              "    <tr>\n",
              "      <th>4</th>\n",
              "      <td>5</td>\n",
              "      <td>15737888</td>\n",
              "      <td>Mitchell</td>\n",
              "      <td>850</td>\n",
              "      <td>Spain</td>\n",
              "      <td>Female</td>\n",
              "      <td>43</td>\n",
              "      <td>2</td>\n",
              "      <td>125510.82</td>\n",
              "      <td>1</td>\n",
              "      <td>1</td>\n",
              "      <td>1</td>\n",
              "      <td>79084.10</td>\n",
              "      <td>0</td>\n",
              "    </tr>\n",
              "    <tr>\n",
              "      <th>5</th>\n",
              "      <td>6</td>\n",
              "      <td>15574012</td>\n",
              "      <td>Chu</td>\n",
              "      <td>645</td>\n",
              "      <td>Spain</td>\n",
              "      <td>Male</td>\n",
              "      <td>44</td>\n",
              "      <td>8</td>\n",
              "      <td>113755.78</td>\n",
              "      <td>2</td>\n",
              "      <td>1</td>\n",
              "      <td>0</td>\n",
              "      <td>149756.71</td>\n",
              "      <td>1</td>\n",
              "    </tr>\n",
              "    <tr>\n",
              "      <th>6</th>\n",
              "      <td>7</td>\n",
              "      <td>15592531</td>\n",
              "      <td>Bartlett</td>\n",
              "      <td>822</td>\n",
              "      <td>France</td>\n",
              "      <td>Male</td>\n",
              "      <td>50</td>\n",
              "      <td>7</td>\n",
              "      <td>0.00</td>\n",
              "      <td>2</td>\n",
              "      <td>1</td>\n",
              "      <td>1</td>\n",
              "      <td>10062.80</td>\n",
              "      <td>0</td>\n",
              "    </tr>\n",
              "    <tr>\n",
              "      <th>7</th>\n",
              "      <td>8</td>\n",
              "      <td>15656148</td>\n",
              "      <td>Obinna</td>\n",
              "      <td>376</td>\n",
              "      <td>Germany</td>\n",
              "      <td>Female</td>\n",
              "      <td>29</td>\n",
              "      <td>4</td>\n",
              "      <td>115046.74</td>\n",
              "      <td>4</td>\n",
              "      <td>1</td>\n",
              "      <td>0</td>\n",
              "      <td>119346.88</td>\n",
              "      <td>1</td>\n",
              "    </tr>\n",
              "    <tr>\n",
              "      <th>8</th>\n",
              "      <td>9</td>\n",
              "      <td>15792365</td>\n",
              "      <td>He</td>\n",
              "      <td>501</td>\n",
              "      <td>France</td>\n",
              "      <td>Male</td>\n",
              "      <td>44</td>\n",
              "      <td>4</td>\n",
              "      <td>142051.07</td>\n",
              "      <td>2</td>\n",
              "      <td>0</td>\n",
              "      <td>1</td>\n",
              "      <td>74940.50</td>\n",
              "      <td>0</td>\n",
              "    </tr>\n",
              "    <tr>\n",
              "      <th>9</th>\n",
              "      <td>10</td>\n",
              "      <td>15592389</td>\n",
              "      <td>H?</td>\n",
              "      <td>684</td>\n",
              "      <td>France</td>\n",
              "      <td>Male</td>\n",
              "      <td>27</td>\n",
              "      <td>2</td>\n",
              "      <td>134603.88</td>\n",
              "      <td>1</td>\n",
              "      <td>1</td>\n",
              "      <td>1</td>\n",
              "      <td>71725.73</td>\n",
              "      <td>0</td>\n",
              "    </tr>\n",
              "  </tbody>\n",
              "</table>\n",
              "</div>"
            ],
            "text/plain": [
              "   RowNumber  CustomerId   Surname  ...  IsActiveMember EstimatedSalary Exited\n",
              "0          1    15634602  Hargrave  ...               1       101348.88      1\n",
              "1          2    15647311      Hill  ...               1       112542.58      0\n",
              "2          3    15619304      Onio  ...               0       113931.57      1\n",
              "3          4    15701354      Boni  ...               0        93826.63      0\n",
              "4          5    15737888  Mitchell  ...               1        79084.10      0\n",
              "5          6    15574012       Chu  ...               0       149756.71      1\n",
              "6          7    15592531  Bartlett  ...               1        10062.80      0\n",
              "7          8    15656148    Obinna  ...               0       119346.88      1\n",
              "8          9    15792365        He  ...               1        74940.50      0\n",
              "9         10    15592389        H?  ...               1        71725.73      0\n",
              "\n",
              "[10 rows x 14 columns]"
            ]
          },
          "metadata": {
            "tags": []
          },
          "execution_count": 6
        }
      ]
    },
    {
      "cell_type": "code",
      "metadata": {
        "id": "vvubBwyH3jYA",
        "colab_type": "code",
        "outputId": "b2b38441-f19c-44b8-c133-2750f7cc1f09",
        "colab": {
          "base_uri": "https://localhost:8080/",
          "height": 35
        }
      },
      "source": [
        "X[6]"
      ],
      "execution_count": 0,
      "outputs": [
        {
          "output_type": "execute_result",
          "data": {
            "text/plain": [
              "array([822, 'France', 'Male', 50, 7, 0.0, 2, 1, 1, 10062.8], dtype=object)"
            ]
          },
          "metadata": {
            "tags": []
          },
          "execution_count": 7
        }
      ]
    },
    {
      "cell_type": "code",
      "metadata": {
        "id": "cQJsDE3SyyVL",
        "colab_type": "code",
        "colab": {}
      },
      "source": [
        "from sklearn.preprocessing import LabelEncoder, OneHotEncoder\n",
        "from sklearn.compose import ColumnTransformer\n",
        "\n",
        "# Country column\n",
        "ct = ColumnTransformer([(\"Country\", OneHotEncoder(), [1])], remainder = 'passthrough')\n",
        "X = ct.fit_transform(X)\n",
        "X = X[:, 1:]\n",
        "\n",
        "# Gender column\n",
        "ct = ColumnTransformer([(\"Gender_1\", OneHotEncoder(), [3])], remainder = 'passthrough')\n",
        "X = ct.fit_transform(X)\n"
      ],
      "execution_count": 0,
      "outputs": []
    },
    {
      "cell_type": "code",
      "metadata": {
        "id": "re8irteh52Bt",
        "colab_type": "code",
        "colab": {}
      },
      "source": [
        "X = X[:, 1:]"
      ],
      "execution_count": 0,
      "outputs": []
    },
    {
      "cell_type": "code",
      "metadata": {
        "id": "olgcT5Siy3ci",
        "colab_type": "code",
        "colab": {}
      },
      "source": [
        "# Splitting the dataset into the Training set and Test set\n",
        "from sklearn.model_selection import train_test_split\n",
        "X_train, X_test, y_train, y_test = train_test_split(X, y, test_size = 0.2, random_state = 0)"
      ],
      "execution_count": 0,
      "outputs": []
    },
    {
      "cell_type": "code",
      "metadata": {
        "id": "LGT_qab90tPm",
        "colab_type": "code",
        "outputId": "37f0accc-02ce-4bd0-99b5-1f5b15bc2291",
        "colab": {
          "base_uri": "https://localhost:8080/",
          "height": 35
        }
      },
      "source": [
        "X_train[0]"
      ],
      "execution_count": 0,
      "outputs": [
        {
          "output_type": "execute_result",
          "data": {
            "text/plain": [
              "array([0.0, 0.0, 1.0, 667, 34, 5, 0.0, 2, 1, 0, 163830.64], dtype=object)"
            ]
          },
          "metadata": {
            "tags": []
          },
          "execution_count": 11
        }
      ]
    },
    {
      "cell_type": "code",
      "metadata": {
        "id": "qhxe19Gny8Qz",
        "colab_type": "code",
        "colab": {}
      },
      "source": [
        "# Feature Scaling\n",
        "from sklearn.preprocessing import StandardScaler\n",
        "sc = StandardScaler()\n",
        "X_train = sc.fit_transform(X_train)\n",
        "X_test = sc.transform(X_test)"
      ],
      "execution_count": 0,
      "outputs": []
    },
    {
      "cell_type": "code",
      "metadata": {
        "id": "2L3GIQZV6KAP",
        "colab_type": "code",
        "colab": {}
      },
      "source": [
        "# Importing the Keras libraries and packages\n",
        "import keras\n",
        "from keras.models import Sequential\n",
        "from keras.layers import Dense"
      ],
      "execution_count": 0,
      "outputs": []
    },
    {
      "cell_type": "code",
      "metadata": {
        "id": "fiY9IYt26Md1",
        "colab_type": "code",
        "colab": {}
      },
      "source": [
        "# Initialising the ANN\n",
        "classifier = Sequential()"
      ],
      "execution_count": 0,
      "outputs": []
    },
    {
      "cell_type": "code",
      "metadata": {
        "id": "k4ybzoEI6Q3K",
        "colab_type": "code",
        "outputId": "bd20eb1d-21ae-444a-b475-ec51ead0b0f7",
        "colab": {
          "base_uri": "https://localhost:8080/",
          "height": 110
        }
      },
      "source": [
        "# Adding the input layer and the first hidden layer\n",
        "#output_dim or units is basically (inputcol + outputcol)/2\n",
        "#activation formular is rectifier\n",
        "#kernal_init is basically initilizing the weights to the synpase\n",
        "classifier.add(Dense(units = 6, kernel_initializer = 'uniform', activation = 'relu', input_dim = 11))"
      ],
      "execution_count": 0,
      "outputs": [
        {
          "output_type": "stream",
          "text": [
            "WARNING:tensorflow:From /usr/local/lib/python3.6/dist-packages/keras/backend/tensorflow_backend.py:541: The name tf.placeholder is deprecated. Please use tf.compat.v1.placeholder instead.\n",
            "\n",
            "WARNING:tensorflow:From /usr/local/lib/python3.6/dist-packages/keras/backend/tensorflow_backend.py:4432: The name tf.random_uniform is deprecated. Please use tf.random.uniform instead.\n",
            "\n"
          ],
          "name": "stdout"
        }
      ]
    },
    {
      "cell_type": "code",
      "metadata": {
        "id": "770N4q0O6Wh1",
        "colab_type": "code",
        "colab": {}
      },
      "source": [
        "# Adding the second hidden layer\n",
        "classifier.add(Dense(units = 6, kernel_initializer = 'uniform', activation = 'relu'))"
      ],
      "execution_count": 0,
      "outputs": []
    },
    {
      "cell_type": "code",
      "metadata": {
        "id": "y1rWB5hL6wOz",
        "colab_type": "code",
        "outputId": "e538ee2b-7531-435f-8cc6-66d6018b9b36",
        "colab": {
          "base_uri": "https://localhost:8080/",
          "height": 73
        }
      },
      "source": [
        "#adding the output layer\n",
        "#change the activation function to sigmoid function\n",
        "#if the dependent variable is catagorical and has more the 2 catagory then we need to use scetmoid insted to sigmoid\n",
        "classifier.add(Dense(output_dim = 1,init ='uniform',activation='sigmoid'))"
      ],
      "execution_count": 0,
      "outputs": [
        {
          "output_type": "stream",
          "text": [
            "/usr/local/lib/python3.6/dist-packages/ipykernel_launcher.py:1: UserWarning: Update your `Dense` call to the Keras 2 API: `Dense(activation=\"sigmoid\", units=1, kernel_initializer=\"uniform\")`\n",
            "  \"\"\"Entry point for launching an IPython kernel.\n"
          ],
          "name": "stderr"
        }
      ]
    },
    {
      "cell_type": "code",
      "metadata": {
        "id": "6V6-iq0vAfbI",
        "colab_type": "code",
        "outputId": "d3374731-79c4-405f-dd39-73cd30f11635",
        "colab": {
          "base_uri": "https://localhost:8080/",
          "height": 164
        }
      },
      "source": [
        "#compling the ANN\n",
        "#optimizer is function used to find the best weights\n",
        "#loss is function that is used to find the optimal weights we used 'binary_crossentropy' pr ''categorial_crossentropy'\n",
        "classifier.compile(optimizer = 'adam', loss = 'binary_crossentropy',metrics=['accuracy'])"
      ],
      "execution_count": 0,
      "outputs": [
        {
          "output_type": "stream",
          "text": [
            "WARNING:tensorflow:From /usr/local/lib/python3.6/dist-packages/keras/optimizers.py:793: The name tf.train.Optimizer is deprecated. Please use tf.compat.v1.train.Optimizer instead.\n",
            "\n",
            "WARNING:tensorflow:From /usr/local/lib/python3.6/dist-packages/keras/backend/tensorflow_backend.py:3657: The name tf.log is deprecated. Please use tf.math.log instead.\n",
            "\n",
            "WARNING:tensorflow:From /usr/local/lib/python3.6/dist-packages/tensorflow_core/python/ops/nn_impl.py:183: where (from tensorflow.python.ops.array_ops) is deprecated and will be removed in a future version.\n",
            "Instructions for updating:\n",
            "Use tf.where in 2.0, which has the same broadcast rule as np.where\n"
          ],
          "name": "stdout"
        }
      ]
    },
    {
      "cell_type": "code",
      "metadata": {
        "id": "C4PYEz28CGqx",
        "colab_type": "code",
        "outputId": "ebe2bbb8-fa06-40e3-c259-a053504f55ea",
        "colab": {
          "base_uri": "https://localhost:8080/",
          "height": 1000
        }
      },
      "source": [
        "#running the ANN \n",
        "classifier.fit(X_train,y_train,batch_size=10 , epochs=100)"
      ],
      "execution_count": 0,
      "outputs": [
        {
          "output_type": "stream",
          "text": [
            "WARNING:tensorflow:From /usr/local/lib/python3.6/dist-packages/keras/backend/tensorflow_backend.py:1033: The name tf.assign_add is deprecated. Please use tf.compat.v1.assign_add instead.\n",
            "\n",
            "WARNING:tensorflow:From /usr/local/lib/python3.6/dist-packages/keras/backend/tensorflow_backend.py:1020: The name tf.assign is deprecated. Please use tf.compat.v1.assign instead.\n",
            "\n",
            "WARNING:tensorflow:From /usr/local/lib/python3.6/dist-packages/keras/backend/tensorflow_backend.py:3005: The name tf.Session is deprecated. Please use tf.compat.v1.Session instead.\n",
            "\n",
            "Epoch 1/100\n",
            "WARNING:tensorflow:From /usr/local/lib/python3.6/dist-packages/keras/backend/tensorflow_backend.py:190: The name tf.get_default_session is deprecated. Please use tf.compat.v1.get_default_session instead.\n",
            "\n",
            "WARNING:tensorflow:From /usr/local/lib/python3.6/dist-packages/keras/backend/tensorflow_backend.py:197: The name tf.ConfigProto is deprecated. Please use tf.compat.v1.ConfigProto instead.\n",
            "\n",
            "WARNING:tensorflow:From /usr/local/lib/python3.6/dist-packages/keras/backend/tensorflow_backend.py:207: The name tf.global_variables is deprecated. Please use tf.compat.v1.global_variables instead.\n",
            "\n",
            "WARNING:tensorflow:From /usr/local/lib/python3.6/dist-packages/keras/backend/tensorflow_backend.py:216: The name tf.is_variable_initialized is deprecated. Please use tf.compat.v1.is_variable_initialized instead.\n",
            "\n",
            "WARNING:tensorflow:From /usr/local/lib/python3.6/dist-packages/keras/backend/tensorflow_backend.py:223: The name tf.variables_initializer is deprecated. Please use tf.compat.v1.variables_initializer instead.\n",
            "\n",
            "8000/8000 [==============================] - 2s 213us/step - loss: 0.4799 - acc: 0.7954\n",
            "Epoch 2/100\n",
            "8000/8000 [==============================] - 1s 120us/step - loss: 0.4165 - acc: 0.7960\n",
            "Epoch 3/100\n",
            "8000/8000 [==============================] - 1s 124us/step - loss: 0.4054 - acc: 0.8141\n",
            "Epoch 4/100\n",
            "8000/8000 [==============================] - 1s 125us/step - loss: 0.3951 - acc: 0.8276\n",
            "Epoch 5/100\n",
            "8000/8000 [==============================] - 1s 126us/step - loss: 0.3865 - acc: 0.8307\n",
            "Epoch 6/100\n",
            "8000/8000 [==============================] - 1s 125us/step - loss: 0.3796 - acc: 0.8375\n",
            "Epoch 7/100\n",
            "8000/8000 [==============================] - 1s 127us/step - loss: 0.3739 - acc: 0.8461\n",
            "Epoch 8/100\n",
            "8000/8000 [==============================] - 1s 125us/step - loss: 0.3705 - acc: 0.8471\n",
            "Epoch 9/100\n",
            "8000/8000 [==============================] - 1s 125us/step - loss: 0.3665 - acc: 0.8495\n",
            "Epoch 10/100\n",
            "8000/8000 [==============================] - 1s 123us/step - loss: 0.3644 - acc: 0.8534\n",
            "Epoch 11/100\n",
            "8000/8000 [==============================] - 1s 130us/step - loss: 0.3634 - acc: 0.8529\n",
            "Epoch 12/100\n",
            "8000/8000 [==============================] - 1s 126us/step - loss: 0.3617 - acc: 0.8510\n",
            "Epoch 13/100\n",
            "8000/8000 [==============================] - 1s 125us/step - loss: 0.3599 - acc: 0.8539\n",
            "Epoch 14/100\n",
            "8000/8000 [==============================] - 1s 124us/step - loss: 0.3597 - acc: 0.8520\n",
            "Epoch 15/100\n",
            "8000/8000 [==============================] - 1s 123us/step - loss: 0.3584 - acc: 0.8524\n",
            "Epoch 16/100\n",
            "8000/8000 [==============================] - 1s 123us/step - loss: 0.3572 - acc: 0.8521\n",
            "Epoch 17/100\n",
            "8000/8000 [==============================] - 1s 123us/step - loss: 0.3573 - acc: 0.8519\n",
            "Epoch 18/100\n",
            "8000/8000 [==============================] - 1s 125us/step - loss: 0.3570 - acc: 0.8539\n",
            "Epoch 19/100\n",
            "8000/8000 [==============================] - 1s 122us/step - loss: 0.3559 - acc: 0.8556\n",
            "Epoch 20/100\n",
            "8000/8000 [==============================] - 1s 122us/step - loss: 0.3552 - acc: 0.8534\n",
            "Epoch 21/100\n",
            "8000/8000 [==============================] - 1s 122us/step - loss: 0.3541 - acc: 0.8571\n",
            "Epoch 22/100\n",
            "8000/8000 [==============================] - 1s 122us/step - loss: 0.3533 - acc: 0.8574\n",
            "Epoch 23/100\n",
            "8000/8000 [==============================] - 1s 122us/step - loss: 0.3532 - acc: 0.8569\n",
            "Epoch 24/100\n",
            "8000/8000 [==============================] - 1s 124us/step - loss: 0.3520 - acc: 0.8565\n",
            "Epoch 25/100\n",
            "8000/8000 [==============================] - 1s 122us/step - loss: 0.3516 - acc: 0.8576\n",
            "Epoch 26/100\n",
            "8000/8000 [==============================] - 1s 123us/step - loss: 0.3509 - acc: 0.8581\n",
            "Epoch 27/100\n",
            "8000/8000 [==============================] - 1s 121us/step - loss: 0.3509 - acc: 0.8564\n",
            "Epoch 28/100\n",
            "8000/8000 [==============================] - 1s 122us/step - loss: 0.3507 - acc: 0.8574\n",
            "Epoch 29/100\n",
            "8000/8000 [==============================] - 1s 126us/step - loss: 0.3508 - acc: 0.8586\n",
            "Epoch 30/100\n",
            "8000/8000 [==============================] - 1s 128us/step - loss: 0.3495 - acc: 0.8576\n",
            "Epoch 31/100\n",
            "8000/8000 [==============================] - 1s 126us/step - loss: 0.3511 - acc: 0.8572\n",
            "Epoch 32/100\n",
            "8000/8000 [==============================] - 1s 129us/step - loss: 0.3500 - acc: 0.8587\n",
            "Epoch 33/100\n",
            "8000/8000 [==============================] - 1s 129us/step - loss: 0.3500 - acc: 0.8546\n",
            "Epoch 34/100\n",
            "8000/8000 [==============================] - 1s 126us/step - loss: 0.3492 - acc: 0.8597\n",
            "Epoch 35/100\n",
            "8000/8000 [==============================] - 1s 125us/step - loss: 0.3497 - acc: 0.8577\n",
            "Epoch 36/100\n",
            "8000/8000 [==============================] - 1s 129us/step - loss: 0.3488 - acc: 0.8570\n",
            "Epoch 37/100\n",
            "8000/8000 [==============================] - 1s 127us/step - loss: 0.3488 - acc: 0.8596\n",
            "Epoch 38/100\n",
            "8000/8000 [==============================] - 1s 127us/step - loss: 0.3480 - acc: 0.8596\n",
            "Epoch 39/100\n",
            "8000/8000 [==============================] - 1s 121us/step - loss: 0.3476 - acc: 0.8586\n",
            "Epoch 40/100\n",
            "8000/8000 [==============================] - 1s 122us/step - loss: 0.3477 - acc: 0.8577\n",
            "Epoch 41/100\n",
            "8000/8000 [==============================] - 1s 123us/step - loss: 0.3473 - acc: 0.8591\n",
            "Epoch 42/100\n",
            "8000/8000 [==============================] - 1s 124us/step - loss: 0.3463 - acc: 0.8590\n",
            "Epoch 43/100\n",
            "8000/8000 [==============================] - 1s 122us/step - loss: 0.3470 - acc: 0.8561\n",
            "Epoch 44/100\n",
            "8000/8000 [==============================] - 1s 122us/step - loss: 0.3463 - acc: 0.8601\n",
            "Epoch 45/100\n",
            "8000/8000 [==============================] - 1s 127us/step - loss: 0.3471 - acc: 0.8594\n",
            "Epoch 46/100\n",
            "8000/8000 [==============================] - 1s 125us/step - loss: 0.3452 - acc: 0.8611\n",
            "Epoch 47/100\n",
            "8000/8000 [==============================] - 1s 124us/step - loss: 0.3462 - acc: 0.8582\n",
            "Epoch 48/100\n",
            "8000/8000 [==============================] - 1s 125us/step - loss: 0.3454 - acc: 0.8585\n",
            "Epoch 49/100\n",
            "8000/8000 [==============================] - 1s 128us/step - loss: 0.3441 - acc: 0.8620\n",
            "Epoch 50/100\n",
            "8000/8000 [==============================] - 1s 126us/step - loss: 0.3453 - acc: 0.8585\n",
            "Epoch 51/100\n",
            "8000/8000 [==============================] - 1s 131us/step - loss: 0.3444 - acc: 0.8592\n",
            "Epoch 52/100\n",
            "8000/8000 [==============================] - 1s 127us/step - loss: 0.3440 - acc: 0.8595\n",
            "Epoch 53/100\n",
            "8000/8000 [==============================] - 1s 125us/step - loss: 0.3438 - acc: 0.8592\n",
            "Epoch 54/100\n",
            "8000/8000 [==============================] - 1s 125us/step - loss: 0.3429 - acc: 0.8581\n",
            "Epoch 55/100\n",
            "8000/8000 [==============================] - 1s 128us/step - loss: 0.3432 - acc: 0.8596\n",
            "Epoch 56/100\n",
            "8000/8000 [==============================] - 1s 126us/step - loss: 0.3419 - acc: 0.8612\n",
            "Epoch 57/100\n",
            "8000/8000 [==============================] - 1s 125us/step - loss: 0.3422 - acc: 0.8597\n",
            "Epoch 58/100\n",
            "8000/8000 [==============================] - 1s 125us/step - loss: 0.3422 - acc: 0.8600\n",
            "Epoch 59/100\n",
            "8000/8000 [==============================] - 1s 126us/step - loss: 0.3408 - acc: 0.8627\n",
            "Epoch 60/100\n",
            "8000/8000 [==============================] - 1s 128us/step - loss: 0.3411 - acc: 0.8614\n",
            "Epoch 61/100\n",
            "8000/8000 [==============================] - 1s 124us/step - loss: 0.3421 - acc: 0.8595\n",
            "Epoch 62/100\n",
            "8000/8000 [==============================] - 1s 123us/step - loss: 0.3415 - acc: 0.8616\n",
            "Epoch 63/100\n",
            "8000/8000 [==============================] - 1s 124us/step - loss: 0.3406 - acc: 0.8614\n",
            "Epoch 64/100\n",
            "8000/8000 [==============================] - 1s 123us/step - loss: 0.3409 - acc: 0.8601\n",
            "Epoch 65/100\n",
            "8000/8000 [==============================] - 1s 127us/step - loss: 0.3408 - acc: 0.8607\n",
            "Epoch 66/100\n",
            "8000/8000 [==============================] - 1s 127us/step - loss: 0.3400 - acc: 0.8607\n",
            "Epoch 67/100\n",
            "8000/8000 [==============================] - 1s 129us/step - loss: 0.3400 - acc: 0.8630\n",
            "Epoch 68/100\n",
            "8000/8000 [==============================] - 1s 130us/step - loss: 0.3402 - acc: 0.8610\n",
            "Epoch 69/100\n",
            "8000/8000 [==============================] - 1s 129us/step - loss: 0.3408 - acc: 0.8619\n",
            "Epoch 70/100\n",
            "8000/8000 [==============================] - 1s 125us/step - loss: 0.3402 - acc: 0.8606\n",
            "Epoch 71/100\n",
            "8000/8000 [==============================] - 1s 128us/step - loss: 0.3396 - acc: 0.8622\n",
            "Epoch 72/100\n",
            "8000/8000 [==============================] - 1s 126us/step - loss: 0.3396 - acc: 0.8627\n",
            "Epoch 73/100\n",
            "8000/8000 [==============================] - 1s 125us/step - loss: 0.3390 - acc: 0.8632\n",
            "Epoch 74/100\n",
            "8000/8000 [==============================] - 1s 126us/step - loss: 0.3395 - acc: 0.8625\n",
            "Epoch 75/100\n",
            "8000/8000 [==============================] - 1s 126us/step - loss: 0.3390 - acc: 0.8611\n",
            "Epoch 76/100\n",
            "8000/8000 [==============================] - 1s 129us/step - loss: 0.3388 - acc: 0.8624\n",
            "Epoch 77/100\n",
            "8000/8000 [==============================] - 1s 124us/step - loss: 0.3392 - acc: 0.8636\n",
            "Epoch 78/100\n",
            "8000/8000 [==============================] - 1s 128us/step - loss: 0.3395 - acc: 0.8624\n",
            "Epoch 79/100\n",
            "8000/8000 [==============================] - 1s 125us/step - loss: 0.3391 - acc: 0.8606\n",
            "Epoch 80/100\n",
            "8000/8000 [==============================] - 1s 127us/step - loss: 0.3401 - acc: 0.8596\n",
            "Epoch 81/100\n",
            "8000/8000 [==============================] - 1s 129us/step - loss: 0.3389 - acc: 0.8616\n",
            "Epoch 82/100\n",
            "8000/8000 [==============================] - 1s 128us/step - loss: 0.3387 - acc: 0.8641\n",
            "Epoch 83/100\n",
            "8000/8000 [==============================] - 1s 129us/step - loss: 0.3384 - acc: 0.8610\n",
            "Epoch 84/100\n",
            "8000/8000 [==============================] - 1s 127us/step - loss: 0.3392 - acc: 0.8616\n",
            "Epoch 85/100\n",
            "8000/8000 [==============================] - 1s 125us/step - loss: 0.3387 - acc: 0.8617\n",
            "Epoch 86/100\n",
            "8000/8000 [==============================] - 1s 125us/step - loss: 0.3384 - acc: 0.8626\n",
            "Epoch 87/100\n",
            "8000/8000 [==============================] - 1s 123us/step - loss: 0.3391 - acc: 0.8599\n",
            "Epoch 88/100\n",
            "8000/8000 [==============================] - 1s 130us/step - loss: 0.3390 - acc: 0.8617\n",
            "Epoch 89/100\n",
            "8000/8000 [==============================] - 1s 129us/step - loss: 0.3392 - acc: 0.8610\n",
            "Epoch 90/100\n",
            "8000/8000 [==============================] - 1s 128us/step - loss: 0.3384 - acc: 0.8615\n",
            "Epoch 91/100\n",
            "8000/8000 [==============================] - 1s 129us/step - loss: 0.3382 - acc: 0.8619\n",
            "Epoch 92/100\n",
            "8000/8000 [==============================] - 1s 126us/step - loss: 0.3385 - acc: 0.8620\n",
            "Epoch 93/100\n",
            "8000/8000 [==============================] - 1s 128us/step - loss: 0.3387 - acc: 0.8620\n",
            "Epoch 94/100\n",
            "8000/8000 [==============================] - 1s 123us/step - loss: 0.3382 - acc: 0.8620\n",
            "Epoch 95/100\n",
            "8000/8000 [==============================] - 1s 129us/step - loss: 0.3388 - acc: 0.8616\n",
            "Epoch 96/100\n",
            "8000/8000 [==============================] - 1s 126us/step - loss: 0.3384 - acc: 0.8619\n",
            "Epoch 97/100\n",
            "8000/8000 [==============================] - 1s 127us/step - loss: 0.3393 - acc: 0.8621\n",
            "Epoch 98/100\n",
            "8000/8000 [==============================] - 1s 125us/step - loss: 0.3383 - acc: 0.8622\n",
            "Epoch 99/100\n",
            "8000/8000 [==============================] - 1s 125us/step - loss: 0.3386 - acc: 0.8619\n",
            "Epoch 100/100\n",
            "8000/8000 [==============================] - 1s 123us/step - loss: 0.3385 - acc: 0.8617\n"
          ],
          "name": "stdout"
        },
        {
          "output_type": "execute_result",
          "data": {
            "text/plain": [
              "<keras.callbacks.History at 0x7fd013f5d6a0>"
            ]
          },
          "metadata": {
            "tags": []
          },
          "execution_count": 19
        }
      ]
    },
    {
      "cell_type": "code",
      "metadata": {
        "id": "qVSPJQifD9tC",
        "colab_type": "code",
        "colab": {}
      },
      "source": [
        "y_pred = classifier.predict(X_test)"
      ],
      "execution_count": 0,
      "outputs": []
    },
    {
      "cell_type": "code",
      "metadata": {
        "id": "j_KAyZ4MEWOg",
        "colab_type": "code",
        "outputId": "05850cfd-b88c-414f-cd09-e6c53f0e7e47",
        "colab": {
          "base_uri": "https://localhost:8080/",
          "height": 144
        }
      },
      "source": [
        "y_pred = (y_pred > 0.5)\n",
        "y_pred"
      ],
      "execution_count": 0,
      "outputs": [
        {
          "output_type": "execute_result",
          "data": {
            "text/plain": [
              "array([[False],\n",
              "       [False],\n",
              "       [False],\n",
              "       ...,\n",
              "       [False],\n",
              "       [False],\n",
              "       [False]])"
            ]
          },
          "metadata": {
            "tags": []
          },
          "execution_count": 21
        }
      ]
    },
    {
      "cell_type": "code",
      "metadata": {
        "id": "V3wAZwRCEc7U",
        "colab_type": "code",
        "outputId": "1f7c4360-ddd9-4be1-d3bc-9d1839e104fa",
        "colab": {
          "base_uri": "https://localhost:8080/",
          "height": 53
        }
      },
      "source": [
        "# Making the Confusion Matrix\n",
        "from sklearn.metrics import confusion_matrix\n",
        "cm = confusion_matrix(y_test, y_pred)\n",
        "cm"
      ],
      "execution_count": 0,
      "outputs": [
        {
          "output_type": "execute_result",
          "data": {
            "text/plain": [
              "array([[1512,   83],\n",
              "       [ 194,  211]])"
            ]
          },
          "metadata": {
            "tags": []
          },
          "execution_count": 22
        }
      ]
    },
    {
      "cell_type": "code",
      "metadata": {
        "id": "lTsant5BFe42",
        "colab_type": "code",
        "outputId": "33c9df3d-c54b-4fa3-8e9f-40d36bb1779f",
        "colab": {
          "base_uri": "https://localhost:8080/",
          "height": 35
        }
      },
      "source": [
        "(1538 + 147 ) / 2000"
      ],
      "execution_count": 0,
      "outputs": [
        {
          "output_type": "execute_result",
          "data": {
            "text/plain": [
              "0.8425"
            ]
          },
          "metadata": {
            "tags": []
          },
          "execution_count": 23
        }
      ]
    },
    {
      "cell_type": "markdown",
      "metadata": {
        "id": "4kWo5ZGItOAC",
        "colab_type": "text"
      },
      "source": [
        "Homework Instruction\n",
        "\n",
        "\n",
        "Use our ANN model to predict if the customer with the following informations will leave the bank: \n",
        "\n",
        "    Geography: France\n",
        "    Credit Score: 600\n",
        "    Gender: Male\n",
        "    Age: 40 years old\n",
        "    Tenure: 3 years\n",
        "    Balance: $60000\n",
        "    Number of Products: 2\n",
        "    Does this customer have a credit card ? Yes\n",
        "    Is this customer an Active Member: Yes\n",
        "    Estimated Salary: $50000\n",
        "\n",
        "So should we say goodbye to that customer ?\n",
        "\n"
      ]
    },
    {
      "cell_type": "code",
      "metadata": {
        "id": "mT1nAR2fnROE",
        "colab_type": "code",
        "colab": {}
      },
      "source": [
        "new_pred = classifier.predict(sc.transform(np.array([[1.0,0.0,0.0,600,40,3,60000,2,1,1,50000]])))"
      ],
      "execution_count": 0,
      "outputs": []
    },
    {
      "cell_type": "code",
      "metadata": {
        "id": "aJgIP-iKxNEK",
        "colab_type": "code",
        "outputId": "5206fc54-6749-45ca-c9b0-ae18919d5feb",
        "colab": {
          "base_uri": "https://localhost:8080/",
          "height": 35
        }
      },
      "source": [
        "new_pred = (new_pred > 0.5)\n",
        "new_pred"
      ],
      "execution_count": 0,
      "outputs": [
        {
          "output_type": "execute_result",
          "data": {
            "text/plain": [
              "array([[False]])"
            ]
          },
          "metadata": {
            "tags": []
          },
          "execution_count": 25
        }
      ]
    },
    {
      "cell_type": "markdown",
      "metadata": {
        "id": "0eI2iDilywrz",
        "colab_type": "text"
      },
      "source": [
        "The Customer wont leave the bank."
      ]
    },
    {
      "cell_type": "markdown",
      "metadata": {
        "id": "OmuLAVhZy_5v",
        "colab_type": "text"
      },
      "source": [
        "**K-FOLD CROSS VALIDATION**\n",
        "\n"
      ]
    },
    {
      "cell_type": "code",
      "metadata": {
        "id": "5TUqJI7jy6Hc",
        "colab_type": "code",
        "colab": {}
      },
      "source": [
        "from keras.wrappers.scikit_learn import KerasClassifier\n",
        "from sklearn.model_selection import cross_val_score"
      ],
      "execution_count": 0,
      "outputs": []
    },
    {
      "cell_type": "code",
      "metadata": {
        "id": "nzPwFPNjz3H-",
        "colab_type": "code",
        "colab": {}
      },
      "source": [
        "def build_classifier():\n",
        "  classifier = Sequential()\n",
        "  classifier.add(Dense(units = 6, kernel_initializer = 'uniform', activation = 'relu', input_dim = 11))\n",
        "  classifier.add(Dense(units = 6, kernel_initializer = 'uniform', activation = 'relu'))\n",
        "  classifier.add(Dense(output_dim = 1,init ='uniform',activation='sigmoid'))\n",
        "  classifier.compile(optimizer = 'adam', loss = 'binary_crossentropy',metrics=['accuracy'])\n",
        "  return classifier"
      ],
      "execution_count": 0,
      "outputs": []
    },
    {
      "cell_type": "code",
      "metadata": {
        "id": "sZ5Z8uU32lWp",
        "colab_type": "code",
        "colab": {}
      },
      "source": [
        "classifier = KerasClassifier(build_fn = build_classifier , batch_size = 10, nb_epoch = 100)"
      ],
      "execution_count": 0,
      "outputs": []
    },
    {
      "cell_type": "code",
      "metadata": {
        "id": "2naJU7712tIk",
        "colab_type": "code",
        "colab": {}
      },
      "source": [
        "accuracy = cross_val_score(estimator = classifier ,X =  X_train, y = y_train, cv = 10, n_jobs= -1)"
      ],
      "execution_count": 0,
      "outputs": []
    },
    {
      "cell_type": "code",
      "metadata": {
        "id": "HrQYu3AH3DwC",
        "colab_type": "code",
        "outputId": "a6fe61c7-f97f-4566-e22e-7839e5379a6b",
        "colab": {
          "base_uri": "https://localhost:8080/",
          "height": 53
        }
      },
      "source": [
        "accuracy"
      ],
      "execution_count": 0,
      "outputs": [
        {
          "output_type": "execute_result",
          "data": {
            "text/plain": [
              "array([0.78625   , 0.79      , 0.8       , 0.7825    , 0.81625   ,\n",
              "       0.81      , 0.7875    , 0.80125   , 0.79875   , 0.79499999])"
            ]
          },
          "metadata": {
            "tags": []
          },
          "execution_count": 30
        }
      ]
    },
    {
      "cell_type": "code",
      "metadata": {
        "id": "NKaHXwOH3Wi4",
        "colab_type": "code",
        "outputId": "894c6392-695a-486f-e73e-defe3709a66f",
        "colab": {
          "base_uri": "https://localhost:8080/",
          "height": 53
        }
      },
      "source": [
        "mean_accuracy = accuracy.mean()\n",
        "var_accuracy = accuracy.std()\n",
        "print(f'accuracy mean - {mean_accuracy} \\naccuracy variance - {var_accuracy}')"
      ],
      "execution_count": 0,
      "outputs": [
        {
          "output_type": "stream",
          "text": [
            "accuracy mean - 0.7967499969154597 \n",
            "accuracy variance - 0.010188841000707218\n"
          ],
          "name": "stdout"
        }
      ]
    },
    {
      "cell_type": "code",
      "metadata": {
        "id": "odMKJqMq4Fr-",
        "colab_type": "code",
        "colab": {}
      },
      "source": [
        "#improving the ANN\n",
        "#Dropout Regularlizatoin to reduce overfitting\n",
        "#p value should'nt be above 0.5 because this might casuse underfitting \n",
        "#from keras.layers import Dropout \n",
        "#classifier.add(Dense(units = 6, kernel_initializer = 'uniform', activation = 'relu', input_dim = 11))\n",
        "#classifier.add(Dropout(p = 0.1))\n",
        "#classifier.add(Dense(units = 6, kernel_initializer = 'uniform', activation = 'relu'))\n",
        "#classifier.add(Dropout(p = 0.1))\n",
        "#classifier.add(Dense(output_dim = 1,init ='uniform',activation='sigmoid'))"
      ],
      "execution_count": 0,
      "outputs": []
    },
    {
      "cell_type": "markdown",
      "metadata": {
        "id": "4ceH28gA6Xg0",
        "colab_type": "text"
      },
      "source": [
        "**Parameter Tunnig** \n",
        "\n",
        "This is basically used to improve the accuracy of the ANN by choosing the proper hyper parameter which can be used to improve the Accuracy.\n",
        "This can be done by using the method called grid search.This is basically build the model by using different combination of the hyperparameter and ultimatly coming to a conclusion if the best combination if the hyperparameter.\n"
      ]
    },
    {
      "cell_type": "code",
      "metadata": {
        "id": "AOmbrtAU7btp",
        "colab_type": "code",
        "colab": {}
      },
      "source": [
        "from keras.wrappers.scikit_learn import KerasClassifier\n",
        "from sklearn.model_selection import GridSearchCV"
      ],
      "execution_count": 0,
      "outputs": []
    },
    {
      "cell_type": "code",
      "metadata": {
        "id": "-N7d4jb16V3E",
        "colab_type": "code",
        "colab": {}
      },
      "source": [
        "def build_classifier(optimizer):\n",
        "  classifier = Sequential()\n",
        "  classifier.add(Dense(units = 6, kernel_initializer = 'uniform', activation = 'relu', input_dim = 11))\n",
        "  classifier.add(Dense(units = 6, kernel_initializer = 'uniform', activation = 'relu'))\n",
        "  classifier.add(Dense(output_dim = 1,init ='uniform',activation='sigmoid'))\n",
        "  classifier.compile(optimizer = optimizer, loss = 'binary_crossentropy',metrics=['accuracy'])\n",
        "  return classifier"
      ],
      "execution_count": 0,
      "outputs": []
    },
    {
      "cell_type": "code",
      "metadata": {
        "id": "nz_6ZsUv8y7l",
        "colab_type": "code",
        "colab": {}
      },
      "source": [
        "classifier = KerasClassifier(build_fn = build_classifier)\n",
        "#HyperParameter dictonary\n",
        "parameters = {'batch_size' : [25,32],\n",
        "              'nb_epoch' : [100, 500],\n",
        "              'optimizer' : ['adam' , 'rmsprop']}"
      ],
      "execution_count": 0,
      "outputs": []
    },
    {
      "cell_type": "code",
      "metadata": {
        "id": "HGGCYeeD-qaF",
        "colab_type": "code",
        "outputId": "44094eb2-665f-4909-f246-a02ccde40c9f",
        "colab": {
          "base_uri": "https://localhost:8080/",
          "height": 1000
        }
      },
      "source": [
        "grid_search = GridSearchCV(estimator= classifier,\n",
        "                           param_grid = parameters,\n",
        "                           scoring = 'accuracy',\n",
        "                           cv = 10)\n",
        "grid_search = grid_search.fit(X_train,y_train)"
      ],
      "execution_count": 0,
      "outputs": [
        {
          "output_type": "stream",
          "text": [
            "/usr/local/lib/python3.6/dist-packages/ipykernel_launcher.py:5: UserWarning: Update your `Dense` call to the Keras 2 API: `Dense(activation=\"sigmoid\", units=1, kernel_initializer=\"uniform\")`\n",
            "  \"\"\"\n"
          ],
          "name": "stderr"
        },
        {
          "output_type": "stream",
          "text": [
            "Epoch 1/1\n",
            "7200/7200 [==============================] - 1s 95us/step - loss: 0.5546 - acc: 0.7957\n",
            "Epoch 1/1\n",
            "7200/7200 [==============================] - 1s 106us/step - loss: 0.5514 - acc: 0.7961\n",
            "Epoch 1/1\n",
            "7200/7200 [==============================] - 1s 122us/step - loss: 0.5758 - acc: 0.7946\n",
            "Epoch 1/1\n",
            "7200/7200 [==============================] - 1s 118us/step - loss: 0.5626 - acc: 0.7975\n",
            "Epoch 1/1\n",
            "7200/7200 [==============================] - 1s 131us/step - loss: 0.5607 - acc: 0.7931\n",
            "Epoch 1/1\n",
            "7200/7200 [==============================] - 1s 143us/step - loss: 0.5668 - acc: 0.7929\n",
            "Epoch 1/1\n",
            "7200/7200 [==============================] - 1s 144us/step - loss: 0.5600 - acc: 0.7957\n",
            "Epoch 1/1\n",
            "7200/7200 [==============================] - 1s 157us/step - loss: 0.5493 - acc: 0.7947\n",
            "Epoch 1/1\n",
            "7200/7200 [==============================] - 1s 159us/step - loss: 0.5536 - acc: 0.7956\n",
            "Epoch 1/1\n",
            "7200/7200 [==============================] - 1s 177us/step - loss: 0.5491 - acc: 0.7961\n",
            "Epoch 1/1\n",
            "7200/7200 [==============================] - 1s 175us/step - loss: 0.5729 - acc: 0.7972\n",
            "Epoch 1/1\n",
            "7200/7200 [==============================] - 1s 182us/step - loss: 0.5765 - acc: 0.7965\n",
            "Epoch 1/1\n",
            "7200/7200 [==============================] - 1s 189us/step - loss: 0.5909 - acc: 0.7944\n",
            "Epoch 1/1\n",
            "7200/7200 [==============================] - 1s 194us/step - loss: 0.5761 - acc: 0.7964\n",
            "Epoch 1/1\n",
            "7200/7200 [==============================] - 1s 194us/step - loss: 0.6106 - acc: 0.7912\n",
            "Epoch 1/1\n",
            "7200/7200 [==============================] - 1s 207us/step - loss: 0.5647 - acc: 0.7940\n",
            "Epoch 1/1\n",
            "7200/7200 [==============================] - 2s 215us/step - loss: 0.5908 - acc: 0.7946\n",
            "Epoch 1/1\n",
            "7200/7200 [==============================] - 2s 225us/step - loss: 0.5779 - acc: 0.7943\n",
            "Epoch 1/1\n",
            "7200/7200 [==============================] - 2s 230us/step - loss: 0.5750 - acc: 0.7944\n",
            "Epoch 1/1\n",
            "7200/7200 [==============================] - 2s 237us/step - loss: 0.5825 - acc: 0.7950\n",
            "Epoch 1/1\n",
            "7200/7200 [==============================] - 2s 254us/step - loss: 0.5579 - acc: 0.7951\n",
            "Epoch 1/1\n",
            "7200/7200 [==============================] - 2s 266us/step - loss: 0.5589 - acc: 0.7961\n",
            "Epoch 1/1\n",
            "7200/7200 [==============================] - 2s 278us/step - loss: 0.6556 - acc: 0.7943\n",
            "Epoch 1/1\n",
            "7200/7200 [==============================] - 2s 282us/step - loss: 0.6022 - acc: 0.7958\n",
            "Epoch 1/1\n",
            "7200/7200 [==============================] - 2s 301us/step - loss: 0.5803 - acc: 0.7928\n",
            "Epoch 1/1\n",
            "7200/7200 [==============================] - 2s 304us/step - loss: 0.5939 - acc: 0.7937\n",
            "Epoch 1/1\n",
            "7200/7200 [==============================] - 2s 310us/step - loss: 0.5537 - acc: 0.7964\n",
            "Epoch 1/1\n",
            "7200/7200 [==============================] - 2s 323us/step - loss: 0.5471 - acc: 0.7958\n",
            "Epoch 1/1\n",
            "7200/7200 [==============================] - 2s 334us/step - loss: 0.5702 - acc: 0.7931\n",
            "Epoch 1/1\n",
            "7200/7200 [==============================] - 2s 339us/step - loss: 0.5425 - acc: 0.7949\n",
            "Epoch 1/1\n",
            "7200/7200 [==============================] - 2s 336us/step - loss: 0.5928 - acc: 0.7960\n",
            "Epoch 1/1\n",
            "7200/7200 [==============================] - 3s 350us/step - loss: 0.5838 - acc: 0.7967\n",
            "Epoch 1/1\n",
            "7200/7200 [==============================] - 3s 354us/step - loss: 0.5551 - acc: 0.7958\n",
            "Epoch 1/1\n",
            "7200/7200 [==============================] - 3s 370us/step - loss: 0.5680 - acc: 0.7965\n",
            "Epoch 1/1\n",
            "7200/7200 [==============================] - 3s 354us/step - loss: 0.5657 - acc: 0.7937\n",
            "Epoch 1/1\n",
            "7200/7200 [==============================] - 3s 366us/step - loss: 0.5568 - acc: 0.7943\n",
            "Epoch 1/1\n",
            "7200/7200 [==============================] - 3s 380us/step - loss: 0.5867 - acc: 0.7954\n",
            "Epoch 1/1\n",
            "7200/7200 [==============================] - 3s 389us/step - loss: 0.6014 - acc: 0.7931\n",
            "Epoch 1/1\n",
            "7200/7200 [==============================] - 3s 394us/step - loss: 0.5870 - acc: 0.7943\n",
            "Epoch 1/1\n",
            "7200/7200 [==============================] - 3s 404us/step - loss: 0.5776 - acc: 0.7961\n",
            "Epoch 1/1\n",
            "7200/7200 [==============================] - 3s 399us/step - loss: 0.5994 - acc: 0.7944\n",
            "Epoch 1/1\n",
            "7200/7200 [==============================] - 3s 430us/step - loss: 0.5821 - acc: 0.7965\n",
            "Epoch 1/1\n",
            "7200/7200 [==============================] - 3s 427us/step - loss: 0.5817 - acc: 0.7956\n",
            "Epoch 1/1\n",
            "7200/7200 [==============================] - 3s 438us/step - loss: 0.5734 - acc: 0.7972\n",
            "Epoch 1/1\n",
            "7200/7200 [==============================] - 3s 448us/step - loss: 0.6377 - acc: 0.7917\n",
            "Epoch 1/1\n",
            "7200/7200 [==============================] - 3s 455us/step - loss: 0.5924 - acc: 0.7936\n",
            "Epoch 1/1\n",
            "7200/7200 [==============================] - 3s 461us/step - loss: 0.5851 - acc: 0.7950\n",
            "Epoch 1/1\n",
            "7200/7200 [==============================] - 3s 465us/step - loss: 0.5681 - acc: 0.7961\n",
            "Epoch 1/1\n",
            "7200/7200 [==============================] - 3s 482us/step - loss: 0.6089 - acc: 0.7944\n",
            "Epoch 1/1\n",
            "7200/7200 [==============================] - 4s 491us/step - loss: 0.5831 - acc: 0.7944\n",
            "Epoch 1/1\n",
            "7200/7200 [==============================] - 3s 481us/step - loss: 0.6124 - acc: 0.7956\n",
            "Epoch 1/1\n",
            "7200/7200 [==============================] - 4s 496us/step - loss: 0.6099 - acc: 0.7946\n",
            "Epoch 1/1\n",
            "7200/7200 [==============================] - 4s 504us/step - loss: 0.6439 - acc: 0.7928\n",
            "Epoch 1/1\n",
            "7200/7200 [==============================] - 4s 517us/step - loss: 0.6084 - acc: 0.7957\n",
            "Epoch 1/1\n",
            "7200/7200 [==============================] - 4s 524us/step - loss: 0.5904 - acc: 0.7936\n",
            "Epoch 1/1\n",
            "7200/7200 [==============================] - 4s 539us/step - loss: 0.5864 - acc: 0.7929\n",
            "Epoch 1/1\n",
            "7200/7200 [==============================] - 4s 531us/step - loss: 0.5858 - acc: 0.7967\n",
            "Epoch 1/1\n",
            "7200/7200 [==============================] - 4s 551us/step - loss: 0.6241 - acc: 0.7942\n",
            "Epoch 1/1\n",
            "7200/7200 [==============================] - 4s 551us/step - loss: 0.6003 - acc: 0.7947\n",
            "Epoch 1/1\n",
            "7200/7200 [==============================] - 4s 559us/step - loss: 0.6001 - acc: 0.7956\n",
            "Epoch 1/1\n",
            "7200/7200 [==============================] - 4s 581us/step - loss: 0.5772 - acc: 0.7969\n",
            "Epoch 1/1\n",
            "7200/7200 [==============================] - 4s 590us/step - loss: 0.5810 - acc: 0.7962\n",
            "Epoch 1/1\n",
            "7200/7200 [==============================] - 4s 597us/step - loss: 0.5774 - acc: 0.7939\n",
            "Epoch 1/1\n",
            "7200/7200 [==============================] - 4s 611us/step - loss: 0.5885 - acc: 0.7975\n",
            "Epoch 1/1\n",
            "7200/7200 [==============================] - 4s 613us/step - loss: 0.6328 - acc: 0.7921\n",
            "Epoch 1/1\n",
            "7200/7200 [==============================] - 5s 635us/step - loss: 0.5840 - acc: 0.7946\n",
            "Epoch 1/1\n",
            "7200/7200 [==============================] - 5s 651us/step - loss: 0.6261 - acc: 0.7951\n",
            "Epoch 1/1\n",
            "7200/7200 [==============================] - 5s 646us/step - loss: 0.6072 - acc: 0.7946\n",
            "Epoch 1/1\n",
            "7200/7200 [==============================] - 5s 641us/step - loss: 0.5756 - acc: 0.7958\n",
            "Epoch 1/1\n",
            "7200/7200 [==============================] - 5s 667us/step - loss: 0.5956 - acc: 0.7940\n",
            "Epoch 1/1\n",
            "7200/7200 [==============================] - 5s 664us/step - loss: 0.6231 - acc: 0.7954\n",
            "Epoch 1/1\n",
            "7200/7200 [==============================] - 5s 682us/step - loss: 0.5865 - acc: 0.7965\n",
            "Epoch 1/1\n",
            "7200/7200 [==============================] - 5s 700us/step - loss: 0.6316 - acc: 0.7939\n",
            "Epoch 1/1\n",
            "7200/7200 [==============================] - 5s 704us/step - loss: 0.5900 - acc: 0.7972\n",
            "Epoch 1/1\n",
            "7200/7200 [==============================] - 5s 718us/step - loss: 0.5981 - acc: 0.7932\n",
            "Epoch 1/1\n",
            "7200/7200 [==============================] - 5s 719us/step - loss: 0.6061 - acc: 0.7936\n",
            "Epoch 1/1\n",
            "7200/7200 [==============================] - 5s 710us/step - loss: 0.5866 - acc: 0.7968\n",
            "Epoch 1/1\n",
            "7200/7200 [==============================] - 5s 725us/step - loss: 0.6045 - acc: 0.7947\n",
            "Epoch 1/1\n",
            "7200/7200 [==============================] - 5s 733us/step - loss: 0.5944 - acc: 0.7947\n",
            "Epoch 1/1\n",
            "7200/7200 [==============================] - 5s 745us/step - loss: 0.6146 - acc: 0.7940\n",
            "Epoch 1/1\n",
            "8000/8000 [==============================] - 6s 723us/step - loss: 0.5482 - acc: 0.7949\n"
          ],
          "name": "stdout"
        }
      ]
    },
    {
      "cell_type": "code",
      "metadata": {
        "id": "SsJ6wQwD_SDw",
        "colab_type": "code",
        "outputId": "6b1e7466-81aa-43f7-a3e7-424774e5ffe4",
        "colab": {
          "base_uri": "https://localhost:8080/",
          "height": 53
        }
      },
      "source": [
        "best_parameter = grid_search.best_params_\n",
        "best_accuracy = grid_search.best_score_\n",
        "print(f'best parameter - {best_parameter} \\nbest accuracy - {best_accuracy}')"
      ],
      "execution_count": 0,
      "outputs": [
        {
          "output_type": "stream",
          "text": [
            "best parameter - {'batch_size': 25, 'nb_epoch': 100, 'optimizer': 'adam'} \n",
            "best accuracy - 0.796\n"
          ],
          "name": "stdout"
        }
      ]
    }
  ]
}