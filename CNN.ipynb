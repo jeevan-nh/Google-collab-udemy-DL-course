{
  "nbformat": 4,
  "nbformat_minor": 0,
  "metadata": {
    "colab": {
      "name": "CNN",
      "provenance": [],
      "collapsed_sections": [],
      "toc_visible": true,
      "authorship_tag": "ABX9TyPvSGj6FwxfgAn/Yg57JrE/",
      "include_colab_link": true
    },
    "kernelspec": {
      "name": "python3",
      "display_name": "Python 3"
    },
    "accelerator": "GPU"
  },
  "cells": [
    {
      "cell_type": "markdown",
      "metadata": {
        "id": "view-in-github",
        "colab_type": "text"
      },
      "source": [
        "<a href=\"https://colab.research.google.com/github/jeevan-nh/Google-collab-udemy-DL-course/blob/master/CNN.ipynb\" target=\"_parent\"><img src=\"https://colab.research.google.com/assets/colab-badge.svg\" alt=\"Open In Colab\"/></a>"
      ]
    },
    {
      "cell_type": "code",
      "metadata": {
        "id": "fnxiLxJal6wa",
        "colab_type": "code",
        "outputId": "1b2cc5ec-cb22-4a24-9012-b8e311f6474b",
        "colab": {
          "base_uri": "https://localhost:8080/",
          "height": 36
        }
      },
      "source": [
        "from google.colab import drive\n",
        "drive.mount('/content/drive')"
      ],
      "execution_count": 0,
      "outputs": [
        {
          "output_type": "stream",
          "text": [
            "Drive already mounted at /content/drive; to attempt to forcibly remount, call drive.mount(\"/content/drive\", force_remount=True).\n"
          ],
          "name": "stdout"
        }
      ]
    },
    {
      "cell_type": "code",
      "metadata": {
        "id": "KNzqr_9df4pG",
        "colab_type": "code",
        "colab": {}
      },
      "source": [
        "import os \n",
        "os.chdir('/content/drive/My Drive/Colab Notebooks/Convolutional_Neural_Networks')"
      ],
      "execution_count": 0,
      "outputs": []
    },
    {
      "cell_type": "code",
      "metadata": {
        "id": "_0s1u1S8hHCN",
        "colab_type": "code",
        "colab": {}
      },
      "source": [
        "#Building the CNN model\n",
        "from keras.models import Sequential\n",
        "from keras.layers import Convolution2D\n",
        "from keras.layers import MaxPooling2D\n",
        "from keras.layers import Flatten\n",
        "from keras.layers import Dense"
      ],
      "execution_count": 0,
      "outputs": []
    },
    {
      "cell_type": "code",
      "metadata": {
        "id": "kN64z4yQkmd0",
        "colab_type": "code",
        "colab": {}
      },
      "source": [
        "#initialize CNN\n",
        "classifier = Sequential()"
      ],
      "execution_count": 0,
      "outputs": []
    },
    {
      "cell_type": "code",
      "metadata": {
        "id": "d2ZCrARIlEYj",
        "colab_type": "code",
        "outputId": "05db54ee-d38c-4e6f-f274-37c3116c647c",
        "colab": {
          "base_uri": "https://localhost:8080/",
          "height": 74
        }
      },
      "source": [
        "#step - 1 convolution\n",
        "classifier.add(Convolution2D(32, 3, 3,input_shape = (64,64,3) , activation='relu'))"
      ],
      "execution_count": 0,
      "outputs": [
        {
          "output_type": "stream",
          "text": [
            "/usr/local/lib/python3.6/dist-packages/ipykernel_launcher.py:1: UserWarning: Update your `Conv2D` call to the Keras 2 API: `Conv2D(32, (3, 3), input_shape=(64, 64, 3..., activation=\"relu\")`\n",
            "  \"\"\"Entry point for launching an IPython kernel.\n"
          ],
          "name": "stderr"
        }
      ]
    },
    {
      "cell_type": "code",
      "metadata": {
        "id": "E5QST7b1o7QH",
        "colab_type": "code",
        "colab": {}
      },
      "source": [
        "#Step - 2 pooling \n",
        "classifier.add(MaxPooling2D(pool_size=(2,2)))"
      ],
      "execution_count": 0,
      "outputs": []
    },
    {
      "cell_type": "code",
      "metadata": {
        "id": "amUl7ipBp-tp",
        "colab_type": "code",
        "colab": {}
      },
      "source": [
        "#Step - 3 Flatting \n",
        "classifier.add(Flatten())"
      ],
      "execution_count": 0,
      "outputs": []
    },
    {
      "cell_type": "code",
      "metadata": {
        "id": "bvsEF9L6rETk",
        "colab_type": "code",
        "outputId": "28dcdbeb-8485-4a52-eb2d-a0eefbde18bd",
        "colab": {
          "base_uri": "https://localhost:8080/",
          "height": 112
        }
      },
      "source": [
        "#step - 4 Full connection\n",
        "classifier.add(Dense(output_dim = 128,activation='relu'))\n",
        "classifier.add(Dense(output_dim = 1,activation='sigmoid'))"
      ],
      "execution_count": 0,
      "outputs": [
        {
          "output_type": "stream",
          "text": [
            "/usr/local/lib/python3.6/dist-packages/ipykernel_launcher.py:1: UserWarning: Update your `Dense` call to the Keras 2 API: `Dense(activation=\"relu\", units=128)`\n",
            "  \"\"\"Entry point for launching an IPython kernel.\n",
            "/usr/local/lib/python3.6/dist-packages/ipykernel_launcher.py:2: UserWarning: Update your `Dense` call to the Keras 2 API: `Dense(activation=\"sigmoid\", units=1)`\n",
            "  \n"
          ],
          "name": "stderr"
        }
      ]
    },
    {
      "cell_type": "code",
      "metadata": {
        "id": "UVplSw-xseMu",
        "colab_type": "code",
        "colab": {}
      },
      "source": [
        "#compling the CNN\n",
        "classifier.compile(optimizer='adam',loss='binary_crossentropy',metrics=['accuracy'])"
      ],
      "execution_count": 0,
      "outputs": []
    },
    {
      "cell_type": "code",
      "metadata": {
        "id": "K6IEUkc8tMM9",
        "colab_type": "code",
        "colab": {}
      },
      "source": [
        "#Fitting the CNN to image\n",
        "#use image augmentation to reduce the overfitting we use reduce use function in keras documentation https://keras.io/preprocessing/image/\n",
        "from keras.preprocessing.image import ImageDataGenerator\n"
      ],
      "execution_count": 0,
      "outputs": []
    },
    {
      "cell_type": "code",
      "metadata": {
        "id": "SWj0qjVCxEhT",
        "colab_type": "code",
        "colab": {}
      },
      "source": [
        "#creating the image augmentor for train and test dataset \n",
        "train_datagen = ImageDataGenerator(\n",
        "        rescale=1./255,\n",
        "        shear_range=0.2,\n",
        "        zoom_range=0.2,\n",
        "        horizontal_flip=True)\n",
        "\n",
        "test_datagen = ImageDataGenerator(rescale=1./255)\n",
        "\n",
        "#here apply the augmented model to the train and test data set and \n",
        "train_set = train_datagen.flow_from_directory(\n",
        "                      '/content/dataset/Convolutional_Neural_Networks/dataset/training_set',\n",
        "                      target_size=(64, 64),\n",
        "                      batch_size=32,\n",
        "                      class_mode='binary')\n",
        "\n",
        "test_set = test_datagen.flow_from_directory(\n",
        "                      '/content/dataset/Convolutional_Neural_Networks/dataset/test_set',\n",
        "                      target_size=(64, 64),\n",
        "                      batch_size=32,\n",
        "                      class_mode='binary')\n",
        "\n",
        "classifier.fit_generator(\n",
        "                    train_set,\n",
        "                    steps_per_epoch=8000,\n",
        "                    epochs=25,\n",
        "                    validation_data=test_set,\n",
        "                    validation_steps=800)"
      ],
      "execution_count": 0,
      "outputs": []
    },
    {
      "cell_type": "code",
      "metadata": {
        "id": "DYBS7L7QBxUP",
        "colab_type": "code",
        "colab": {}
      },
      "source": [
        ""
      ],
      "execution_count": 0,
      "outputs": []
    }
  ]
}