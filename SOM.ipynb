{
  "nbformat": 4,
  "nbformat_minor": 0,
  "metadata": {
    "colab": {
      "name": "SOM.ipynb",
      "provenance": [],
      "collapsed_sections": [],
      "authorship_tag": "ABX9TyO8VgdRalFXEHM8y8m3mWRr",
      "include_colab_link": true
    },
    "kernelspec": {
      "name": "python3",
      "display_name": "Python 3"
    }
  },
  "cells": [
    {
      "cell_type": "markdown",
      "metadata": {
        "id": "view-in-github",
        "colab_type": "text"
      },
      "source": [
        "<a href=\"https://colab.research.google.com/github/jeevan-nh/Google-collab-udemy-DL-course/blob/master/SOM.ipynb\" target=\"_parent\"><img src=\"https://colab.research.google.com/assets/colab-badge.svg\" alt=\"Open In Colab\"/></a>"
      ]
    },
    {
      "cell_type": "markdown",
      "metadata": {
        "id": "002bDkgTVC1t",
        "colab_type": "text"
      },
      "source": [
        "#SOM - SELF ORGANIZING MAP"
      ]
    },
    {
      "cell_type": "code",
      "metadata": {
        "id": "40ZPkkZ3QjKQ",
        "colab_type": "code",
        "outputId": "6fe8a264-d7b0-4f95-9232-b2560be5748f",
        "colab": {
          "base_uri": "https://localhost:8080/",
          "height": 36
        }
      },
      "source": [
        "from google.colab import drive\n",
        "drive.mount('/content/drive')"
      ],
      "execution_count": 1,
      "outputs": [
        {
          "output_type": "stream",
          "text": [
            "Drive already mounted at /content/drive; to attempt to forcibly remount, call drive.mount(\"/content/drive\", force_remount=True).\n"
          ],
          "name": "stdout"
        }
      ]
    },
    {
      "cell_type": "code",
      "metadata": {
        "id": "dLSCnCe-LgOx",
        "colab_type": "code",
        "colab": {}
      },
      "source": [
        "import numpy as np\n",
        "import pandas as pd\n",
        "import matplotlib.pyplot as plt\n",
        "import sys\n",
        "sys.path.append('/content/drive/My Drive/Colab Notebooks')"
      ],
      "execution_count": 0,
      "outputs": []
    },
    {
      "cell_type": "code",
      "metadata": {
        "id": "veTYcxVDMRQF",
        "colab_type": "code",
        "colab": {}
      },
      "source": [
        "dataset = pd.read_csv('Credit_Card_Applications.csv')"
      ],
      "execution_count": 0,
      "outputs": []
    },
    {
      "cell_type": "code",
      "metadata": {
        "id": "TQtR19RSMkDt",
        "colab_type": "code",
        "colab": {}
      },
      "source": [
        "X = dataset.iloc[:,:-1].values\n",
        "Y = dataset.iloc[:,-1].values"
      ],
      "execution_count": 0,
      "outputs": []
    },
    {
      "cell_type": "code",
      "metadata": {
        "id": "yc3qt3gGOHTc",
        "colab_type": "code",
        "colab": {}
      },
      "source": [
        "#Feature Scaling \n",
        "from sklearn.preprocessing import MinMaxScaler\n",
        "sc = MinMaxScaler(feature_range=(0,1))\n",
        "X = sc.fit_transform(X)"
      ],
      "execution_count": 0,
      "outputs": []
    },
    {
      "cell_type": "markdown",
      "metadata": {
        "id": "NRj8HLObVLTa",
        "colab_type": "text"
      },
      "source": [
        "##USING SOM"
      ]
    },
    {
      "cell_type": "code",
      "metadata": {
        "id": "sJMUzZ3rOwE6",
        "colab_type": "code",
        "colab": {}
      },
      "source": [
        "from minisom import MiniSom\n",
        "som = MiniSom(x = 10, y = 10,input_len = 15,sigma=1.0,learning_rate=0.5) #initilizing the SOM"
      ],
      "execution_count": 0,
      "outputs": []
    },
    {
      "cell_type": "markdown",
      "metadata": {
        "id": "JmbExCpmWZGP",
        "colab_type": "text"
      },
      "source": [
        ""
      ]
    },
    {
      "cell_type": "code",
      "metadata": {
        "id": "xyM0Rng3QQXc",
        "colab_type": "code",
        "colab": {}
      },
      "source": [
        "som.random_weights_init(X) #initilizing the random weights\n",
        "som.train_random(data = X,num_iteration=100) #training the model"
      ],
      "execution_count": 0,
      "outputs": []
    },
    {
      "cell_type": "markdown",
      "metadata": {
        "id": "v6BsTTrsWJ1C",
        "colab_type": "text"
      },
      "source": [
        "##Visulizing the SOM result"
      ]
    },
    {
      "cell_type": "code",
      "metadata": {
        "id": "EzSI4vnVWCCv",
        "colab_type": "code",
        "colab": {
          "base_uri": "https://localhost:8080/",
          "height": 269
        },
        "outputId": "1c735091-683d-4b28-872c-ac526ccd8dd5"
      },
      "source": [
        "from pylab import bone,pcolor,colorbar,plot,show\n",
        "bone() #creats the panel for our figure\n",
        "pcolor(som.distance_map().T) #creats a heatmap of the som\n",
        "colorbar() #creats a legend\n",
        "markers = ['o','s']\n",
        "colors = ['r','g']\n",
        "for i,x  in enumerate(X):\n",
        "  w = som.winner(x)\n",
        "  plot(w[0] + 0.5,\n",
        "       w[1] + 0.5,\n",
        "       markers[Y[i]],\n",
        "       markeredgecolor = colors[Y[i]],\n",
        "       markerfacecolor = 'None',\n",
        "       markersize = 8,\n",
        "       markeredgewidth = 1)\n",
        "show()"
      ],
      "execution_count": 18,
      "outputs": [
        {
          "output_type": "display_data",
          "data": {
            "image/png": "[encoded data removed]",
            "text/plain": [
              "<Figure size 432x288 with 2 Axes>"
            ]
          },
          "metadata": {
            "tags": []
          }
        }
      ]
    },
    {
      "cell_type": "markdown",
      "metadata": {
        "id": "iF9g9_ggaP_i",
        "colab_type": "text"
      },
      "source": [
        "##Finding the Frauds\n"
      ]
    },
    {
      "cell_type": "code",
      "metadata": {
        "id": "MK_dbYfdXHzV",
        "colab_type": "code",
        "colab": {
          "base_uri": "https://localhost:8080/",
          "height": 241
        },
        "outputId": "ebd232b8-be9e-4e09-d6d8-594721308ab2"
      },
      "source": [
        "Mappings = som.win_map(X)\n",
        "frauds = Mappings[(5,2)] #(5,2) from som result heat map\n",
        "frauds = sc.inverse_transform(frauds)\n",
        "frauds"
      ],
      "execution_count": 22,
      "outputs": [
        {
          "output_type": "execute_result",
          "data": {
            "text/plain": [
              "array([[1.5699340e+07, 1.0000000e+00, 2.3170000e+01, 0.0000000e+00,\n",
              "        2.0000000e+00, 8.0000000e+00, 4.0000000e+00, 0.0000000e+00,\n",
              "        0.0000000e+00, 0.0000000e+00, 0.0000000e+00, 0.0000000e+00,\n",
              "        3.0000000e+00, 1.8400000e+02, 1.0000000e+00],\n",
              "       [1.5684440e+07, 1.0000000e+00, 3.3670000e+01, 2.1650000e+00,\n",
              "        2.0000000e+00, 8.0000000e+00, 4.0000000e+00, 1.5000000e+00,\n",
              "        0.0000000e+00, 0.0000000e+00, 0.0000000e+00, 0.0000000e+00,\n",
              "        3.0000000e+00, 1.2000000e+02, 1.0000000e+00],\n",
              "       [1.5778589e+07, 1.0000000e+00, 2.0420000e+01, 0.0000000e+00,\n",
              "        2.0000000e+00, 8.0000000e+00, 4.0000000e+00, 0.0000000e+00,\n",
              "        0.0000000e+00, 0.0000000e+00, 0.0000000e+00, 0.0000000e+00,\n",
              "        3.0000000e+00, 1.8400000e+02, 1.0000000e+00]])"
            ]
          },
          "metadata": {
            "tags": []
          },
          "execution_count": 22
        }
      ]
    },
    {
      "cell_type": "code",
      "metadata": {
        "id": "mQ8ZqASFcX1R",
        "colab_type": "code",
        "colab": {}
      },
      "source": [
        ""
      ],
      "execution_count": 0,
      "outputs": []
    }
  ]
}